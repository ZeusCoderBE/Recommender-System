{
 "cells": [
  {
   "cell_type": "markdown",
   "metadata": {},
   "source": [
    "## 1.Import Libraries"
   ]
  },
  {
   "cell_type": "code",
   "execution_count": 49,
   "metadata": {},
   "outputs": [],
   "source": [
    "import pandas as pd\n",
    "import numpy as np\n",
    "from sklearn.feature_extraction.text import TfidfTransformer\n",
    "from sklearn.linear_model import Ridge\n",
    "from sklearn.metrics import mean_squared_error\n",
    "import ipynb.fs.full.Neighborhood_based as nb\n",
    "np.set_printoptions(threshold=np.inf)\n"
   ]
  },
  {
   "cell_type": "markdown",
   "metadata": {},
   "source": [
    "## 2. Content-based Filtering"
   ]
  },
  {
   "cell_type": "markdown",
   "metadata": {},
   "source": [
    "### 2.1. Import the necessary files"
   ]
  },
  {
   "cell_type": "markdown",
   "metadata": {},
   "source": [
    "#### 2.1.1 User"
   ]
  },
  {
   "cell_type": "code",
   "execution_count": 50,
   "metadata": {},
   "outputs": [],
   "source": [
    "# df_user\n",
    "u_cols =  ['user_id', 'age', 'sex', 'occupation', 'zip_code']\n",
    "df_users = pd.read_csv('./data/u.user', sep='|', names=u_cols, encoding='latin-1')"
   ]
  },
  {
   "cell_type": "code",
   "execution_count": 51,
   "metadata": {},
   "outputs": [
    {
     "data": {
      "text/html": [
       "<div>\n",
       "<style scoped>\n",
       "    .dataframe tbody tr th:only-of-type {\n",
       "        vertical-align: middle;\n",
       "    }\n",
       "\n",
       "    .dataframe tbody tr th {\n",
       "        vertical-align: top;\n",
       "    }\n",
       "\n",
       "    .dataframe thead th {\n",
       "        text-align: right;\n",
       "    }\n",
       "</style>\n",
       "<table border=\"1\" class=\"dataframe\">\n",
       "  <thead>\n",
       "    <tr style=\"text-align: right;\">\n",
       "      <th></th>\n",
       "      <th>user_id</th>\n",
       "      <th>age</th>\n",
       "      <th>sex</th>\n",
       "      <th>occupation</th>\n",
       "      <th>zip_code</th>\n",
       "    </tr>\n",
       "  </thead>\n",
       "  <tbody>\n",
       "    <tr>\n",
       "      <th>0</th>\n",
       "      <td>1</td>\n",
       "      <td>24</td>\n",
       "      <td>M</td>\n",
       "      <td>technician</td>\n",
       "      <td>85711</td>\n",
       "    </tr>\n",
       "    <tr>\n",
       "      <th>1</th>\n",
       "      <td>2</td>\n",
       "      <td>53</td>\n",
       "      <td>F</td>\n",
       "      <td>other</td>\n",
       "      <td>94043</td>\n",
       "    </tr>\n",
       "    <tr>\n",
       "      <th>2</th>\n",
       "      <td>3</td>\n",
       "      <td>23</td>\n",
       "      <td>M</td>\n",
       "      <td>writer</td>\n",
       "      <td>32067</td>\n",
       "    </tr>\n",
       "    <tr>\n",
       "      <th>3</th>\n",
       "      <td>4</td>\n",
       "      <td>24</td>\n",
       "      <td>M</td>\n",
       "      <td>technician</td>\n",
       "      <td>43537</td>\n",
       "    </tr>\n",
       "    <tr>\n",
       "      <th>4</th>\n",
       "      <td>5</td>\n",
       "      <td>33</td>\n",
       "      <td>F</td>\n",
       "      <td>other</td>\n",
       "      <td>15213</td>\n",
       "    </tr>\n",
       "  </tbody>\n",
       "</table>\n",
       "</div>"
      ],
      "text/plain": [
       "   user_id  age sex  occupation zip_code\n",
       "0        1   24   M  technician    85711\n",
       "1        2   53   F       other    94043\n",
       "2        3   23   M      writer    32067\n",
       "3        4   24   M  technician    43537\n",
       "4        5   33   F       other    15213"
      ]
     },
     "execution_count": 51,
     "metadata": {},
     "output_type": "execute_result"
    }
   ],
   "source": [
    "df_users.head(5)"
   ]
  },
  {
   "cell_type": "code",
   "execution_count": 52,
   "metadata": {},
   "outputs": [
    {
     "data": {
      "text/plain": [
       "(943, 5)"
      ]
     },
     "execution_count": 52,
     "metadata": {},
     "output_type": "execute_result"
    }
   ],
   "source": [
    "df_users.shape"
   ]
  },
  {
   "cell_type": "markdown",
   "metadata": {},
   "source": [
    "### 2.1.2 User_Item"
   ]
  },
  {
   "cell_type": "code",
   "execution_count": 53,
   "metadata": {},
   "outputs": [],
   "source": [
    "r_cols = ['user_id', 'movie_id', 'rating', 'unix_timestamp']\n",
    "df_ratings_train = pd.read_csv('./data/ua.base', sep='\\t', names=r_cols, encoding='latin-1')\n",
    "df_ratings_test = pd.read_csv('./data/ua.test', sep='\\t', names=r_cols, encoding='latin-1')"
   ]
  },
  {
   "cell_type": "code",
   "execution_count": 54,
   "metadata": {},
   "outputs": [
    {
     "data": {
      "text/html": [
       "<div>\n",
       "<style scoped>\n",
       "    .dataframe tbody tr th:only-of-type {\n",
       "        vertical-align: middle;\n",
       "    }\n",
       "\n",
       "    .dataframe tbody tr th {\n",
       "        vertical-align: top;\n",
       "    }\n",
       "\n",
       "    .dataframe thead th {\n",
       "        text-align: right;\n",
       "    }\n",
       "</style>\n",
       "<table border=\"1\" class=\"dataframe\">\n",
       "  <thead>\n",
       "    <tr style=\"text-align: right;\">\n",
       "      <th></th>\n",
       "      <th>user_id</th>\n",
       "      <th>movie_id</th>\n",
       "      <th>rating</th>\n",
       "      <th>unix_timestamp</th>\n",
       "    </tr>\n",
       "  </thead>\n",
       "  <tbody>\n",
       "    <tr>\n",
       "      <th>0</th>\n",
       "      <td>1</td>\n",
       "      <td>1</td>\n",
       "      <td>5</td>\n",
       "      <td>874965758</td>\n",
       "    </tr>\n",
       "    <tr>\n",
       "      <th>1</th>\n",
       "      <td>1</td>\n",
       "      <td>2</td>\n",
       "      <td>3</td>\n",
       "      <td>876893171</td>\n",
       "    </tr>\n",
       "    <tr>\n",
       "      <th>2</th>\n",
       "      <td>1</td>\n",
       "      <td>3</td>\n",
       "      <td>4</td>\n",
       "      <td>878542960</td>\n",
       "    </tr>\n",
       "    <tr>\n",
       "      <th>3</th>\n",
       "      <td>1</td>\n",
       "      <td>4</td>\n",
       "      <td>3</td>\n",
       "      <td>876893119</td>\n",
       "    </tr>\n",
       "    <tr>\n",
       "      <th>4</th>\n",
       "      <td>1</td>\n",
       "      <td>5</td>\n",
       "      <td>3</td>\n",
       "      <td>889751712</td>\n",
       "    </tr>\n",
       "  </tbody>\n",
       "</table>\n",
       "</div>"
      ],
      "text/plain": [
       "   user_id  movie_id  rating  unix_timestamp\n",
       "0        1         1       5       874965758\n",
       "1        1         2       3       876893171\n",
       "2        1         3       4       878542960\n",
       "3        1         4       3       876893119\n",
       "4        1         5       3       889751712"
      ]
     },
     "execution_count": 54,
     "metadata": {},
     "output_type": "execute_result"
    }
   ],
   "source": [
    "df_ratings_train.head(5)"
   ]
  },
  {
   "cell_type": "code",
   "execution_count": 55,
   "metadata": {},
   "outputs": [
    {
     "data": {
      "text/plain": [
       "(90570, 4)"
      ]
     },
     "execution_count": 55,
     "metadata": {},
     "output_type": "execute_result"
    }
   ],
   "source": [
    "df_ratings_train.shape"
   ]
  },
  {
   "cell_type": "markdown",
   "metadata": {},
   "source": [
    "### 2.1.3 Item"
   ]
  },
  {
   "cell_type": "code",
   "execution_count": 56,
   "metadata": {},
   "outputs": [],
   "source": [
    "i_cols = ['movie id', 'movie title' ,'release date','video release date', 'IMDb URL', 'unknown', 'Action', 'Adventure',\n",
    " 'Animation', 'Children\\'s', 'Comedy', 'Crime', 'Documentary', 'Drama', 'Fantasy',\n",
    " 'Film-Noir', 'Horror', 'Musical', 'Mystery', 'Romance', 'Sci-Fi', 'Thriller', 'War', 'Western']\n",
    "\n",
    "df_items = pd.read_csv('./data/u.item', sep='|', names=i_cols, encoding='latin-1')"
   ]
  },
  {
   "cell_type": "code",
   "execution_count": 57,
   "metadata": {},
   "outputs": [
    {
     "data": {
      "text/html": [
       "<div>\n",
       "<style scoped>\n",
       "    .dataframe tbody tr th:only-of-type {\n",
       "        vertical-align: middle;\n",
       "    }\n",
       "\n",
       "    .dataframe tbody tr th {\n",
       "        vertical-align: top;\n",
       "    }\n",
       "\n",
       "    .dataframe thead th {\n",
       "        text-align: right;\n",
       "    }\n",
       "</style>\n",
       "<table border=\"1\" class=\"dataframe\">\n",
       "  <thead>\n",
       "    <tr style=\"text-align: right;\">\n",
       "      <th></th>\n",
       "      <th>movie id</th>\n",
       "      <th>movie title</th>\n",
       "      <th>release date</th>\n",
       "      <th>video release date</th>\n",
       "      <th>IMDb URL</th>\n",
       "      <th>unknown</th>\n",
       "      <th>Action</th>\n",
       "      <th>Adventure</th>\n",
       "      <th>Animation</th>\n",
       "      <th>Children's</th>\n",
       "      <th>...</th>\n",
       "      <th>Fantasy</th>\n",
       "      <th>Film-Noir</th>\n",
       "      <th>Horror</th>\n",
       "      <th>Musical</th>\n",
       "      <th>Mystery</th>\n",
       "      <th>Romance</th>\n",
       "      <th>Sci-Fi</th>\n",
       "      <th>Thriller</th>\n",
       "      <th>War</th>\n",
       "      <th>Western</th>\n",
       "    </tr>\n",
       "  </thead>\n",
       "  <tbody>\n",
       "    <tr>\n",
       "      <th>0</th>\n",
       "      <td>1</td>\n",
       "      <td>Toy Story (1995)</td>\n",
       "      <td>01-Jan-1995</td>\n",
       "      <td>NaN</td>\n",
       "      <td>http://us.imdb.com/M/title-exact?Toy%20Story%2...</td>\n",
       "      <td>0</td>\n",
       "      <td>0</td>\n",
       "      <td>0</td>\n",
       "      <td>1</td>\n",
       "      <td>1</td>\n",
       "      <td>...</td>\n",
       "      <td>0</td>\n",
       "      <td>0</td>\n",
       "      <td>0</td>\n",
       "      <td>0</td>\n",
       "      <td>0</td>\n",
       "      <td>0</td>\n",
       "      <td>0</td>\n",
       "      <td>0</td>\n",
       "      <td>0</td>\n",
       "      <td>0</td>\n",
       "    </tr>\n",
       "    <tr>\n",
       "      <th>1</th>\n",
       "      <td>2</td>\n",
       "      <td>GoldenEye (1995)</td>\n",
       "      <td>01-Jan-1995</td>\n",
       "      <td>NaN</td>\n",
       "      <td>http://us.imdb.com/M/title-exact?GoldenEye%20(...</td>\n",
       "      <td>0</td>\n",
       "      <td>1</td>\n",
       "      <td>1</td>\n",
       "      <td>0</td>\n",
       "      <td>0</td>\n",
       "      <td>...</td>\n",
       "      <td>0</td>\n",
       "      <td>0</td>\n",
       "      <td>0</td>\n",
       "      <td>0</td>\n",
       "      <td>0</td>\n",
       "      <td>0</td>\n",
       "      <td>0</td>\n",
       "      <td>1</td>\n",
       "      <td>0</td>\n",
       "      <td>0</td>\n",
       "    </tr>\n",
       "    <tr>\n",
       "      <th>2</th>\n",
       "      <td>3</td>\n",
       "      <td>Four Rooms (1995)</td>\n",
       "      <td>01-Jan-1995</td>\n",
       "      <td>NaN</td>\n",
       "      <td>http://us.imdb.com/M/title-exact?Four%20Rooms%...</td>\n",
       "      <td>0</td>\n",
       "      <td>0</td>\n",
       "      <td>0</td>\n",
       "      <td>0</td>\n",
       "      <td>0</td>\n",
       "      <td>...</td>\n",
       "      <td>0</td>\n",
       "      <td>0</td>\n",
       "      <td>0</td>\n",
       "      <td>0</td>\n",
       "      <td>0</td>\n",
       "      <td>0</td>\n",
       "      <td>0</td>\n",
       "      <td>1</td>\n",
       "      <td>0</td>\n",
       "      <td>0</td>\n",
       "    </tr>\n",
       "    <tr>\n",
       "      <th>3</th>\n",
       "      <td>4</td>\n",
       "      <td>Get Shorty (1995)</td>\n",
       "      <td>01-Jan-1995</td>\n",
       "      <td>NaN</td>\n",
       "      <td>http://us.imdb.com/M/title-exact?Get%20Shorty%...</td>\n",
       "      <td>0</td>\n",
       "      <td>1</td>\n",
       "      <td>0</td>\n",
       "      <td>0</td>\n",
       "      <td>0</td>\n",
       "      <td>...</td>\n",
       "      <td>0</td>\n",
       "      <td>0</td>\n",
       "      <td>0</td>\n",
       "      <td>0</td>\n",
       "      <td>0</td>\n",
       "      <td>0</td>\n",
       "      <td>0</td>\n",
       "      <td>0</td>\n",
       "      <td>0</td>\n",
       "      <td>0</td>\n",
       "    </tr>\n",
       "    <tr>\n",
       "      <th>4</th>\n",
       "      <td>5</td>\n",
       "      <td>Copycat (1995)</td>\n",
       "      <td>01-Jan-1995</td>\n",
       "      <td>NaN</td>\n",
       "      <td>http://us.imdb.com/M/title-exact?Copycat%20(1995)</td>\n",
       "      <td>0</td>\n",
       "      <td>0</td>\n",
       "      <td>0</td>\n",
       "      <td>0</td>\n",
       "      <td>0</td>\n",
       "      <td>...</td>\n",
       "      <td>0</td>\n",
       "      <td>0</td>\n",
       "      <td>0</td>\n",
       "      <td>0</td>\n",
       "      <td>0</td>\n",
       "      <td>0</td>\n",
       "      <td>0</td>\n",
       "      <td>1</td>\n",
       "      <td>0</td>\n",
       "      <td>0</td>\n",
       "    </tr>\n",
       "  </tbody>\n",
       "</table>\n",
       "<p>5 rows × 24 columns</p>\n",
       "</div>"
      ],
      "text/plain": [
       "   movie id        movie title release date  video release date  \\\n",
       "0         1   Toy Story (1995)  01-Jan-1995                 NaN   \n",
       "1         2   GoldenEye (1995)  01-Jan-1995                 NaN   \n",
       "2         3  Four Rooms (1995)  01-Jan-1995                 NaN   \n",
       "3         4  Get Shorty (1995)  01-Jan-1995                 NaN   \n",
       "4         5     Copycat (1995)  01-Jan-1995                 NaN   \n",
       "\n",
       "                                            IMDb URL  unknown  Action  \\\n",
       "0  http://us.imdb.com/M/title-exact?Toy%20Story%2...        0       0   \n",
       "1  http://us.imdb.com/M/title-exact?GoldenEye%20(...        0       1   \n",
       "2  http://us.imdb.com/M/title-exact?Four%20Rooms%...        0       0   \n",
       "3  http://us.imdb.com/M/title-exact?Get%20Shorty%...        0       1   \n",
       "4  http://us.imdb.com/M/title-exact?Copycat%20(1995)        0       0   \n",
       "\n",
       "   Adventure  Animation  Children's  ...  Fantasy  Film-Noir  Horror  Musical  \\\n",
       "0          0          1           1  ...        0          0       0        0   \n",
       "1          1          0           0  ...        0          0       0        0   \n",
       "2          0          0           0  ...        0          0       0        0   \n",
       "3          0          0           0  ...        0          0       0        0   \n",
       "4          0          0           0  ...        0          0       0        0   \n",
       "\n",
       "   Mystery  Romance  Sci-Fi  Thriller  War  Western  \n",
       "0        0        0       0         0    0        0  \n",
       "1        0        0       0         1    0        0  \n",
       "2        0        0       0         1    0        0  \n",
       "3        0        0       0         0    0        0  \n",
       "4        0        0       0         1    0        0  \n",
       "\n",
       "[5 rows x 24 columns]"
      ]
     },
     "execution_count": 57,
     "metadata": {},
     "output_type": "execute_result"
    }
   ],
   "source": [
    "df_items.head(5)"
   ]
  },
  {
   "cell_type": "code",
   "execution_count": 58,
   "metadata": {},
   "outputs": [
    {
     "data": {
      "text/plain": [
       "(1682, 24)"
      ]
     },
     "execution_count": 58,
     "metadata": {},
     "output_type": "execute_result"
    }
   ],
   "source": [
    "df_items.shape"
   ]
  },
  {
   "cell_type": "markdown",
   "metadata": {},
   "source": [
    "### 2.2 Convert to matrix "
   ]
  },
  {
   "cell_type": "markdown",
   "metadata": {},
   "source": [
    "#### 2.2.1.Rate Train  Matrix and  Rate  Test Matrix"
   ]
  },
  {
   "cell_type": "code",
   "execution_count": 59,
   "metadata": {},
   "outputs": [
    {
     "name": "stdout",
     "output_type": "stream",
     "text": [
      "(9430, 4)\n"
     ]
    }
   ],
   "source": [
    "\n",
    "rate_train = df_ratings_train.values\n",
    "rate_test = df_ratings_test.values \n",
    "print(rate_test.shape)"
   ]
  },
  {
   "cell_type": "markdown",
   "metadata": {},
   "source": [
    "### 2.2.2. Movie Genre Matrix"
   ]
  },
  {
   "cell_type": "code",
   "execution_count": 60,
   "metadata": {},
   "outputs": [],
   "source": [
    "X= df_items.values\n",
    "X_Item_Profile = X[:, 6:] ### chỉ lấy các cột thể loại"
   ]
  },
  {
   "cell_type": "markdown",
   "metadata": {},
   "source": [
    "### 2.3 Build Filter Contend Based"
   ]
  },
  {
   "cell_type": "markdown",
   "metadata": {},
   "source": [
    "#### 2.3.1. Build Item Profiles"
   ]
  },
  {
   "cell_type": "code",
   "execution_count": 61,
   "metadata": {},
   "outputs": [],
   "source": [
    "transformer = TfidfTransformer(smooth_idf=True, norm ='l2')\n",
    "tfidf=transformer.fit_transform(X_Item_Profile.tolist()).toarray()\n",
    " "
   ]
  },
  {
   "cell_type": "code",
   "execution_count": 62,
   "metadata": {},
   "outputs": [
    {
     "name": "stdout",
     "output_type": "stream",
     "text": [
      "[[0.         0.         0.74066017 0.57387209 0.34941857 0.\n",
      "  0.         0.         0.         0.         0.         0.\n",
      "  0.         0.         0.         0.         0.         0.        ]\n",
      " [0.53676706 0.65097024 0.         0.         0.         0.\n",
      "  0.         0.         0.         0.         0.         0.\n",
      "  0.         0.         0.         0.53676706 0.         0.        ]]\n"
     ]
    }
   ],
   "source": [
    "print(tfidf[0:2,:])"
   ]
  },
  {
   "cell_type": "markdown",
   "metadata": {},
   "source": [
    "#### 2.3.2 Learn Models For Each User"
   ]
  },
  {
   "cell_type": "markdown",
   "metadata": {},
   "source": [
    "- Find the Item ID and its rating"
   ]
  },
  {
   "cell_type": "code",
   "execution_count": 63,
   "metadata": {},
   "outputs": [],
   "source": [
    "def get_items_rated_by_user(rate_matrix, user_id):\n",
    "    y = rate_matrix[:,0]\n",
    "    ids = np.where(y == user_id +1)[0]\n",
    "    item_ids = rate_matrix[ids, 1] - 1\n",
    "    scores = rate_matrix[ids, 2]\n",
    "    return (item_ids, scores)"
   ]
  },
  {
   "cell_type": "markdown",
   "metadata": {},
   "source": [
    "**Use ridge regression model to find out weights and deviations**:\n",
    "   - Input: TF-IDF matrix of Items that have been rated by that user.\n",
    "   - Label: Rating score of each user.\n",
    "   - Ridge regression model is used to learn the weights and biases.\n",
    "   \n",
    "**Building Linear Regression to Predict Ratings**:\n",
    "   - Predicted Rating Matrix = tfidf matrix x Weight matrix + bias matrix.\n",
    "   - This step utilizes the parameters (weights and bias) learned from the Ridge regression model to build a linear regression model for predicting ratings.\n",
    "\n"
   ]
  },
  {
   "cell_type": "code",
   "execution_count": 64,
   "metadata": {},
   "outputs": [],
   "source": [
    "class ContentBasedFiltering:\n",
    "    def __init__(self, tfidf, n_users, n_items, lamda):\n",
    "        self.lamda = lamda\n",
    "        self.tfidf = tfidf\n",
    "        self.f = open('./result/result.dat', 'a+')\n",
    "        self.n_users = n_users\n",
    "        self.n_items = n_items\n",
    "    def fit(self,rate_train):\n",
    "        d =self.tfidf.shape[1] \n",
    "        W = np.zeros((d, self.n_users))\n",
    "        b = np.zeros((1, self.n_users))\n",
    "        for n in range(self.n_users):    \n",
    "            ids, scores = get_items_rated_by_user(rate_train, n)\n",
    "            clf = Ridge(alpha= self.lamda, fit_intercept  = True)\n",
    "            Xhat = self.tfidf[ids, :]\n",
    "            clf.fit(Xhat, scores) \n",
    "            W[:, n] = clf.coef_\n",
    "            b[0, n] = clf.intercept_\n",
    "        self.Yhat = abs(self.tfidf.dot(W) + b)\n",
    "    def predict_one_sample(self,user_id,rate_test):\n",
    "        movie_ids, scores = get_items_rated_by_user(rate_test, user_id)\n",
    "        id_item=(movie_ids+1).tolist()\n",
    "        actual_ratting= scores.tolist()\n",
    "        predict_ratting=self.Yhat[movie_ids, user_id]\n",
    "        return id_item,actual_ratting,predict_ratting\n",
    "    def predict(self, rate_test):\n",
    "        predict_all = []\n",
    "        for n in range(self.n_users):\n",
    "            ids, score = get_items_rated_by_user(rate_test, n)\n",
    "            scores_pred = self.Yhat[ids, n]\n",
    "            predict_all.append(scores_pred)\n",
    "        return np.array(predict_all)\n",
    "    def export_result(self,name_df,actual,RMSE):\n",
    "        self.f.write(f'Dataset Name:{str(name_df)},Model:{\"ridge regression\"},Size:{actual.shape[0]},RMSE:{RMSE}\\n')\n",
    "        self.f.close()\n",
    "    def RMSE(self,actual,predict):\n",
    "        actual_all = []\n",
    "        for n in range(self.n_users):\n",
    "            ids, scores_truth = get_items_rated_by_user(actual, n)\n",
    "            actual_all.append(scores_truth)\n",
    "        actual_all=np.array(actual_all)\n",
    "        RMSE=np.sqrt(mean_squared_error(actual_all,predict))\n",
    "        return RMSE\n",
    "        "
   ]
  },
  {
   "cell_type": "code",
   "execution_count": 65,
   "metadata": {},
   "outputs": [],
   "source": [
    "n_users = df_users.shape[0]\n",
    "n_items =df_items.shape[0]"
   ]
  },
  {
   "cell_type": "markdown",
   "metadata": {},
   "source": [
    "#### 2.3.3.The ContendBased Algorithm"
   ]
  },
  {
   "cell_type": "code",
   "execution_count": 66,
   "metadata": {},
   "outputs": [],
   "source": [
    "cb =ContentBasedFiltering(tfidf, n_users,n_items, lamda=7)\n",
    "cb.fit(rate_train)"
   ]
  },
  {
   "cell_type": "markdown",
   "metadata": {},
   "source": [
    "#### 2.3.4. Predicting a sample"
   ]
  },
  {
   "cell_type": "code",
   "execution_count": 67,
   "metadata": {},
   "outputs": [
    {
     "name": "stdout",
     "output_type": "stream",
     "text": [
      "Rated movies ids : [20, 33, 61, 117, 155, 160, 171, 189, 202, 265]\n",
      "True ratings     : [4, 4, 4, 3, 2, 4, 5, 3, 5, 4]\n",
      "Predicted ratings: [4.05258587 3.49334641 4.0876576  2.99192374 3.58526105 4.0876576\n",
      " 4.1537379  3.71704288 3.75937954 3.29926366]\n"
     ]
    }
   ],
   "source": [
    "\n",
    "movies_id,actual_ratting,predict_ratting = cb.predict_one_sample(0,rate_test)# user1\n",
    "print('Rated movies ids :', movies_id)\n",
    "print('True ratings     :', actual_ratting)\n",
    "print('Predicted ratings:', predict_ratting)\n"
   ]
  },
  {
   "cell_type": "markdown",
   "metadata": {},
   "source": [
    "#### 2.4.5. Predicting All "
   ]
  },
  {
   "cell_type": "code",
   "execution_count": 68,
   "metadata": {},
   "outputs": [
    {
     "name": "stdout",
     "output_type": "stream",
     "text": [
      "(943, 10)\n"
     ]
    }
   ],
   "source": [
    "predict_rating=cb.predict(rate_test)\n",
    "print(predict_rating.shape)"
   ]
  },
  {
   "cell_type": "markdown",
   "metadata": {},
   "source": [
    "#### 2.3.5 Evaluating "
   ]
  },
  {
   "cell_type": "code",
   "execution_count": 69,
   "metadata": {},
   "outputs": [
    {
     "name": "stdout",
     "output_type": "stream",
     "text": [
      "RMSE:1.0245214253474164\n"
     ]
    }
   ],
   "source": [
    "rmse=cb.RMSE(rate_test,predict_rating)\n",
    "print(f\"RMSE:{rmse}\")\n",
    "cb.export_result(\"100K\",rate_test,rmse)"
   ]
  },
  {
   "cell_type": "markdown",
   "metadata": {},
   "source": [
    "#### 2.3.6 Recommend"
   ]
  },
  {
   "cell_type": "code",
   "execution_count": 70,
   "metadata": {},
   "outputs": [
    {
     "name": "stdout",
     "output_type": "stream",
     "text": [
      "Index: 6, Title: Twelve Monkeys (1995)\n",
      "Index: 178, Title: Clockwork Orange, A (1971)\n",
      "Index: 257, Title: Contact (1997)\n",
      "Index: 269, Title: Gattaca (1997)\n",
      "Index: 428, Title: Day the Earth Stood Still, The (1951)\n",
      "Index: 433, Title: Forbidden Planet (1956)\n",
      "Index: 551, Title: Species (1995)\n",
      "Index: 759, Title: Screamers (1995)\n",
      "Index: 1005, Title: Until the End of the World (Bis ans Ende der Welt) (1991)\n",
      "Index: 1153, Title: Alphaville (1965)\n"
     ]
    }
   ],
   "source": [
    "def recommend(user_id,n_items,predict_rate,rate_test, top):\n",
    "        a = np.zeros((n_items,))\n",
    "        recommended_items = []\n",
    "        items_rated_by_user, score = get_items_rated_by_user(rate_test, user_id)\n",
    "        for i in range(n_items):\n",
    "            if i not in items_rated_by_user:\n",
    "                a[i] = predict_rate[i, user_id]\n",
    "        if len(a) < top:\n",
    "            recommended_items = np.argsort(a)[-len(a):]\n",
    "        else:\n",
    "            recommended_items = np.argsort(a)[-top:]\n",
    "        return recommended_items+1\n",
    "    \n",
    "recommend_movies = recommend(0, cb.n_items, cb.Yhat, rate_test, 10)\n",
    "filtered_movies = df_items[df_items['movie id'].isin(recommend_movies)]\n",
    "for index, row in filtered_movies.iterrows():\n",
    "    print(f\"Index: {index}, Title: {row['movie title']}\")"
   ]
  },
  {
   "cell_type": "markdown",
   "metadata": {},
   "source": [
    "### 1M"
   ]
  },
  {
   "cell_type": "code",
   "execution_count": 71,
   "metadata": {},
   "outputs": [
    {
     "data": {
      "text/plain": [
       "'u_cols =  [\\'user_id\\', \\'sex\\', \\'age\\', \\'occupation\\', \\'zip_code\\']\\nusers = pd.read_csv(\\'ml-1m/users.dat\\', sep=\\'::\\', names=u_cols,\\n encoding=\\'latin-1\\')\\nn_users = users.shape[0]\\n\\nr_cols = [\\'user_id\\', \\'movie_id\\', \\'rating\\', \\'unix_timestamp\\']\\n\\nratings_base = pd.read_csv(\\'mvl/1M_train_03.dat\\', sep=\\':\\', names=r_cols, encoding=\\'latin-1\\')\\nratings_test = pd.read_csv(\\'mvl/1M_test_03.dat\\', sep=\\':\\', names=r_cols, encoding=\\'latin-1\\')\\n\\nrate_train = ratings_base.as_matrix()\\nrate_test = ratings_test.as_matrix()\\n\\ni_cols = [\\'movie id\\', \\'title\\' ,\\'year\\', \\'gen\\']\\nn_items = 3951\\n\\nitems = pd.read_csv(\\'ml-1m/movies.dat\\', sep=\\'::\\', names=i_cols, encoding=\\'latin-1\\')\\nX = items.as_matrix()\\nX_train_count = np.full(shape = (n_items, 19), fill_value = 0)\\n\\ngenresList = [\\n  \"Action\",\\n  \"Adventure\",\\n  \"Animation\",\\n  \"Children\",\\n  \"Comedy\",\\n  \"Crime\",\\n  \"Documentary\",\\n  \"Drama\",\\n  \"Fantasy\",\\n  \"Film-Noir\",\\n  \"Horror\",\\n  \"Musical\",\\n  \"Mystery\",\\n  \"Romance\",\\n  \"Sci-Fi\",\\n  \"Thriller\",\\n  \"War\",\\n  \"Western\",\\n  \"(no genres listed)\"\\n]\\n\\ndef setGenresMatrix(genres):\\n    movieGenresMatrix = []\\n    movieGenresList = genres.split(\\'|\\')\\n    for x in genresList:\\n        if (x in movieGenresList):\\n            movieGenresMatrix.append(1)\\n        else:\\n            movieGenresMatrix.append(0)\\n    return movieGenresMatrix\\nfor i in range(n_items):\\n    X_train_count[i] = setGenresMatrix(X[i+1, 3])\\n    '"
      ]
     },
     "execution_count": 71,
     "metadata": {},
     "output_type": "execute_result"
    }
   ],
   "source": [
    "\"\"\"u_cols =  ['user_id', 'sex', 'age', 'occupation', 'zip_code']\n",
    "users = pd.read_csv('ml-1m/users.dat', sep='::', names=u_cols,\n",
    " encoding='latin-1')\n",
    "n_users = users.shape[0]\n",
    "\n",
    "r_cols = ['user_id', 'movie_id', 'rating', 'unix_timestamp']\n",
    "\n",
    "ratings_base = pd.read_csv('mvl/1M_train_03.dat', sep=':', names=r_cols, encoding='latin-1')\n",
    "ratings_test = pd.read_csv('mvl/1M_test_03.dat', sep=':', names=r_cols, encoding='latin-1')\n",
    "\n",
    "rate_train = ratings_base.as_matrix()\n",
    "rate_test = ratings_test.as_matrix()\n",
    "\n",
    "i_cols = ['movie id', 'title' ,'year', 'gen']\n",
    "n_items = 3951\n",
    "\n",
    "items = pd.read_csv('ml-1m/movies.dat', sep='::', names=i_cols, encoding='latin-1')\n",
    "X = items.as_matrix()\n",
    "X_train_count = np.full(shape = (n_items, 19), fill_value = 0)\n",
    "\n",
    "genresList = [\n",
    "  \"Action\",\n",
    "  \"Adventure\",\n",
    "  \"Animation\",\n",
    "  \"Children\",\n",
    "  \"Comedy\",\n",
    "  \"Crime\",\n",
    "  \"Documentary\",\n",
    "  \"Drama\",\n",
    "  \"Fantasy\",\n",
    "  \"Film-Noir\",\n",
    "  \"Horror\",\n",
    "  \"Musical\",\n",
    "  \"Mystery\",\n",
    "  \"Romance\",\n",
    "  \"Sci-Fi\",\n",
    "  \"Thriller\",\n",
    "  \"War\",\n",
    "  \"Western\",\n",
    "  \"(no genres listed)\"\n",
    "]\n",
    "\n",
    "def setGenresMatrix(genres):\n",
    "    movieGenresMatrix = []\n",
    "    movieGenresList = genres.split('|')\n",
    "    for x in genresList:\n",
    "        if (x in movieGenresList):\n",
    "            movieGenresMatrix.append(1)\n",
    "        else:\n",
    "            movieGenresMatrix.append(0)\n",
    "    return movieGenresMatrix\n",
    "for i in range(n_items):\n",
    "    X_train_count[i] = setGenresMatrix(X[i+1, 3])\n",
    "    \"\"\""
   ]
  },
  {
   "cell_type": "code",
   "execution_count": 72,
   "metadata": {},
   "outputs": [
    {
     "data": {
      "text/plain": [
       "'cb2 = Contentbased(rate_train, X_train_count, n_users= n_users, n_items = n_items, lamda=98)\\ncb2.fit()\\ncb2.RMSE(Data_test=rate_test)\\n'"
      ]
     },
     "execution_count": 72,
     "metadata": {},
     "output_type": "execute_result"
    }
   ],
   "source": [
    "\"\"\"cb2 = Contentbased(rate_train, X_train_count, n_users= n_users, n_items = n_items, lamda=98)\n",
    "cb2.fit()\n",
    "cb2.RMSE(Data_test=rate_test)\n",
    "\"\"\""
   ]
  }
 ],
 "metadata": {
  "kernelspec": {
   "display_name": "Python 3",
   "language": "python",
   "name": "python3"
  },
  "language_info": {
   "codemirror_mode": {
    "name": "ipython",
    "version": 3
   },
   "file_extension": ".py",
   "mimetype": "text/x-python",
   "name": "python",
   "nbconvert_exporter": "python",
   "pygments_lexer": "ipython3",
   "version": "3.11.5"
  }
 },
 "nbformat": 4,
 "nbformat_minor": 2
}
