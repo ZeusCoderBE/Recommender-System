{
 "cells": [
  {
   "cell_type": "markdown",
   "metadata": {},
   "source": [
    "## 1. Import Libraries"
   ]
  },
  {
   "cell_type": "code",
   "execution_count": 1,
   "metadata": {},
   "outputs": [
    {
     "name": "stdout",
     "output_type": "stream",
     "text": [
      "RMSE KNN-User-User:0.9963187578181227\n"
     ]
    },
    {
     "name": "stderr",
     "output_type": "stream",
     "text": [
      "c:\\Users\\hdang\\.virtualenvs\\machinelearning-lTTH8rYd\\Lib\\site-packages\\numpy\\core\\fromnumeric.py:3504: RuntimeWarning: Mean of empty slice.\n",
      "  return _methods._mean(a, axis=axis, dtype=dtype,\n",
      "c:\\Users\\hdang\\.virtualenvs\\machinelearning-lTTH8rYd\\Lib\\site-packages\\numpy\\core\\_methods.py:129: RuntimeWarning: invalid value encountered in scalar divide\n",
      "  ret = ret.dtype.type(ret / rcount)\n"
     ]
    },
    {
     "name": "stdout",
     "output_type": "stream",
     "text": [
      "RMSE KNN-Item-Item:0.9867912132705395\n",
      "(9430, 4)\n",
      "[[0.         0.         0.74066017 0.57387209 0.34941857 0.\n",
      "  0.         0.         0.         0.         0.         0.\n",
      "  0.         0.         0.         0.         0.         0.        ]\n",
      " [0.53676706 0.65097024 0.         0.         0.         0.\n",
      "  0.         0.         0.         0.         0.         0.\n",
      "  0.         0.         0.         0.53676706 0.         0.        ]]\n",
      "Rated movies ids : [20, 33, 61, 117, 155, 160, 171, 189, 202, 265]\n",
      "True ratings     : [4, 4, 4, 3, 2, 4, 5, 3, 5, 4]\n",
      "Predicted ratings: [4.05258587 3.49334641 4.0876576  2.99192374 3.58526105 4.0876576\n",
      " 4.1537379  3.71704288 3.75937954 3.29926366]\n",
      "(943, 10)\n",
      "RMSE:1.0245214253474164\n",
      "Index: 6, Title: Twelve Monkeys (1995)\n",
      "Index: 178, Title: Clockwork Orange, A (1971)\n",
      "Index: 257, Title: Contact (1997)\n",
      "Index: 269, Title: Gattaca (1997)\n",
      "Index: 428, Title: Day the Earth Stood Still, The (1951)\n",
      "Index: 433, Title: Forbidden Planet (1956)\n",
      "Index: 551, Title: Species (1995)\n",
      "Index: 759, Title: Screamers (1995)\n",
      "Index: 1005, Title: Until the End of the World (Bis ans Ende der Welt) (1991)\n",
      "Index: 1153, Title: Alphaville (1965)\n"
     ]
    }
   ],
   "source": [
    "import ipynb.fs.full.Neighborhood_based as nb\n",
    "import ipynb.fs.full.Content_based as cb\n",
    "import numpy as np\n",
    "from sklearn.metrics import mean_squared_error"
   ]
  },
  {
   "cell_type": "markdown",
   "metadata": {},
   "source": [
    "## 2. Hybrid of Content based with KNN-item-item"
   ]
  },
  {
   "cell_type": "markdown",
   "metadata": {},
   "source": [
    "### 2.1. Built Model"
   ]
  },
  {
   "cell_type": "code",
   "execution_count": 2,
   "metadata": {},
   "outputs": [],
   "source": [
    "class Hybrid:\n",
    "    def __init__ (self,predict_cb,predict_uu,predict_ii,iiCF =1):\n",
    "        self.predict_cb=predict_cb\n",
    "        self.predict_ii=predict_ii if iiCF ==1 else predict_uu\n",
    "        self.f = open('./result/result.dat', 'a+')\n",
    "        self.iiCF=iiCF\n",
    "    def hybrid(self):\n",
    "        result=(self.predict_cb.flatten()+self.predict_ii)/2\n",
    "        return result\n",
    "    def rmse(self,y_predict,y_true):\n",
    "        RMSE=np.sqrt(mean_squared_error(y_true,y_predict))\n",
    "        return RMSE\n",
    "    def export_result(self,name_df,actual,RMSE):\n",
    "        if self.iiCF==1:\n",
    "            model=\"Hybrid of KNN-item-item with Content-based\"\n",
    "        else:\n",
    "            model= \"Hybrid of KNN-user-user with Content-based\"\n",
    "        if self.f.close:\n",
    "            self.f = open('./result/result.dat', 'a+')\n",
    "        self.f.write(f'Dataset Name:{str(name_df)},Model:{model},Size:{actual.shape[0]},RMSE:{RMSE}\\n')\n",
    "        self.f.close()"
   ]
  },
  {
   "cell_type": "markdown",
   "metadata": {},
   "source": [
    "### 2.2.Model KNN-item-item with Content-based"
   ]
  },
  {
   "cell_type": "code",
   "execution_count": 3,
   "metadata": {},
   "outputs": [],
   "source": [
    "content_based=cb.predict_rating\n",
    "knn_item_item=nb.predict_i\n",
    "knn_user_user=nb.predict_u\n",
    "hybrid_cb_knn_ii=Hybrid(content_based,knn_user_user,knn_item_item,iiCF=1)"
   ]
  },
  {
   "cell_type": "markdown",
   "metadata": {},
   "source": [
    "### 2.3 Predict Hybrid of KNN-item-item with Content-based"
   ]
  },
  {
   "cell_type": "code",
   "execution_count": 4,
   "metadata": {},
   "outputs": [],
   "source": [
    "result_predict_i=hybrid_cb_knn_ii.hybrid()"
   ]
  },
  {
   "cell_type": "markdown",
   "metadata": {},
   "source": [
    "### 2.4. Evaluating KNN-item-item with Content-based"
   ]
  },
  {
   "cell_type": "code",
   "execution_count": 5,
   "metadata": {},
   "outputs": [
    {
     "name": "stdout",
     "output_type": "stream",
     "text": [
      "Hybrid of contend based with KNN-item-item:1.040643514911312\n"
     ]
    }
   ],
   "source": [
    "rating_test=cb.rate_test\n",
    "rmse_hybrid_i=hybrid_cb_knn_ii.rmse(rating_test[:,2],result_predict_i)\n",
    "print(f\"Hybrid of contend based with KNN-item-item:{rmse_hybrid_i}\")\n",
    "hybrid_cb_knn_ii.export_result(\"100K\",rating_test,rmse_hybrid_i)"
   ]
  },
  {
   "cell_type": "markdown",
   "metadata": {},
   "source": [
    "### 2.5.Model KNN-user-user with Content-based"
   ]
  },
  {
   "cell_type": "code",
   "execution_count": 6,
   "metadata": {},
   "outputs": [],
   "source": [
    "hybrid_cb_knn_uu=Hybrid(content_based,knn_user_user,knn_item_item,iiCF=0)"
   ]
  },
  {
   "cell_type": "markdown",
   "metadata": {},
   "source": [
    "### 2.6 Predict Hybrid of KNN-user-user with Content-based"
   ]
  },
  {
   "cell_type": "code",
   "execution_count": 7,
   "metadata": {},
   "outputs": [],
   "source": [
    "result_predict_u=hybrid_cb_knn_uu.hybrid()"
   ]
  },
  {
   "cell_type": "markdown",
   "metadata": {},
   "source": [
    "### 2.7. Evaluating KNN-user-user with Content-based"
   ]
  },
  {
   "cell_type": "code",
   "execution_count": 8,
   "metadata": {},
   "outputs": [
    {
     "name": "stdout",
     "output_type": "stream",
     "text": [
      "Hybrid of contend based with KNN-user-user:1.0225248416678936\n"
     ]
    }
   ],
   "source": [
    "rmse_hybrid_u=hybrid_cb_knn_uu.rmse(rating_test[:,2],result_predict_u)\n",
    "print(f\"Hybrid of contend based with KNN-user-user:{rmse_hybrid_u}\")\n",
    "hybrid_cb_knn_uu.export_result(\"100K\",rating_test,rmse_hybrid_u)"
   ]
  }
 ],
 "metadata": {
  "kernelspec": {
   "display_name": "machinelearning-lTTH8rYd",
   "language": "python",
   "name": "python3"
  },
  "language_info": {
   "codemirror_mode": {
    "name": "ipython",
    "version": 3
   },
   "file_extension": ".py",
   "mimetype": "text/x-python",
   "name": "python",
   "nbconvert_exporter": "python",
   "pygments_lexer": "ipython3",
   "version": "3.11.5"
  }
 },
 "nbformat": 4,
 "nbformat_minor": 2
}
