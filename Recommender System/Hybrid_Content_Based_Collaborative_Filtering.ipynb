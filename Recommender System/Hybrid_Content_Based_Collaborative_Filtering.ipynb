{
 "cells": [
  {
   "cell_type": "markdown",
   "metadata": {},
   "source": [
    "## 1. Import Libraries"
   ]
  },
  {
   "cell_type": "code",
   "execution_count": 104,
   "metadata": {},
   "outputs": [],
   "source": [
    "import ipynb.fs.full.Neighborhood_based as nb\n",
    "import ipynb.fs.full.Content_based as cb\n",
    "import numpy as np\n",
    "from sklearn.metrics import mean_squared_error"
   ]
  },
  {
   "cell_type": "markdown",
   "metadata": {},
   "source": [
    "## 2. Hybrid of Content based with KNN-item-item"
   ]
  },
  {
   "cell_type": "markdown",
   "metadata": {},
   "source": [
    "### 2.1. Built Model"
   ]
  },
  {
   "cell_type": "code",
   "execution_count": 105,
   "metadata": {},
   "outputs": [],
   "source": [
    "class Hybrid:\n",
    "    def __init__ (self,predict_cb,predict_uu,predict_ii,iiCF =1):\n",
    "        self.predict_cb=predict_cb\n",
    "        self.predict_ii=predict_ii if iiCF ==1 else predict_uu\n",
    "        self.f = open('./result/result.dat', 'a+')\n",
    "        self.iiCF=iiCF\n",
    "    def hybrid(self):\n",
    "        result=(self.predict_cb.flatten()+self.predict_ii)/2\n",
    "        return result\n",
    "    def rmse(self,y_predict,y_true):\n",
    "        RMSE=np.sqrt(mean_squared_error(y_true,y_predict))\n",
    "        return RMSE\n",
    "    def export_result(self,name_df,actual,RMSE):\n",
    "        if self.iiCF==1:\n",
    "            model=\"Hybrid of KNN-item-item with Content-based\"\n",
    "        else:\n",
    "            model= \"Hybrid of KNN-user-user with Content-based\"\n",
    "        if self.f.close:\n",
    "            self.f = open('./result/result.dat', 'a+')\n",
    "        self.f.write(f'Dataset Name:{str(name_df)},Model:{model},Size:{actual.shape[0]},RMSE:{RMSE}\\n')\n",
    "        self.f.close()"
   ]
  },
  {
   "cell_type": "markdown",
   "metadata": {},
   "source": [
    "### 2.2.Model KNN-item-item with Content-based"
   ]
  },
  {
   "cell_type": "code",
   "execution_count": 106,
   "metadata": {},
   "outputs": [],
   "source": [
    "content_based=cb.predict_rating\n",
    "knn_item_item=nb.predict_i\n",
    "knn_user_user=nb.predict_u\n",
    "hybrid_cb_knn_ii=Hybrid(content_based,knn_user_user,knn_item_item,iiCF=1)"
   ]
  },
  {
   "cell_type": "markdown",
   "metadata": {},
   "source": [
    "### 2.3 Predict Hybrid of KNN-item-item with Content-based"
   ]
  },
  {
   "cell_type": "code",
   "execution_count": 107,
   "metadata": {},
   "outputs": [],
   "source": [
    "result_predict_i=hybrid_cb_knn_ii.hybrid()"
   ]
  },
  {
   "cell_type": "markdown",
   "metadata": {},
   "source": [
    "### 2.4. Evaluating KNN-item-item with Content-based"
   ]
  },
  {
   "cell_type": "code",
   "execution_count": 108,
   "metadata": {},
   "outputs": [
    {
     "name": "stdout",
     "output_type": "stream",
     "text": [
      "Hybrid of contend based with KNN-item-item:0.9748255817540873\n",
      "1\n"
     ]
    }
   ],
   "source": [
    "rating_test=cb.rate_test\n",
    "rmse_hybrid_i=hybrid_cb_knn_ii.rmse(rating_test[:,2],result_predict_i)\n",
    "print(f\"Hybrid of contend based with KNN-item-item:{rmse_hybrid_i}\")\n",
    "hybrid_cb_knn_ii.export_result(\"100K\",rating_test,rmse_hybrid_i)"
   ]
  },
  {
   "cell_type": "markdown",
   "metadata": {},
   "source": [
    "### 2.5.Model KNN-user-user with Content-based"
   ]
  },
  {
   "cell_type": "code",
   "execution_count": 109,
   "metadata": {},
   "outputs": [],
   "source": [
    "hybrid_cb_knn_uu=Hybrid(content_based,knn_user_user,knn_item_item,iiCF=0)"
   ]
  },
  {
   "cell_type": "markdown",
   "metadata": {},
   "source": [
    "### 2.6 Predict Hybrid of KNN-user-user with Content-based"
   ]
  },
  {
   "cell_type": "code",
   "execution_count": 110,
   "metadata": {},
   "outputs": [],
   "source": [
    "result_predict_u=hybrid_cb_knn_uu.hybrid()"
   ]
  },
  {
   "cell_type": "markdown",
   "metadata": {},
   "source": [
    "### 2.7. Evaluating KNN-user-user with Content-based"
   ]
  },
  {
   "cell_type": "code",
   "execution_count": 111,
   "metadata": {},
   "outputs": [
    {
     "name": "stdout",
     "output_type": "stream",
     "text": [
      "Hybrid of contend based with KNN-user-user:1.002757623030903\n",
      "0\n"
     ]
    }
   ],
   "source": [
    "rmse_hybrid_u=hybrid_cb_knn_uu.rmse(rating_test[:,2],result_predict_u)\n",
    "print(f\"Hybrid of contend based with KNN-user-user:{rmse_hybrid_u}\")\n",
    "hybrid_cb_knn_uu.export_result(\"100K\",rating_test,rmse_hybrid_u)"
   ]
  }
 ],
 "metadata": {
  "kernelspec": {
   "display_name": "machinelearning-lTTH8rYd",
   "language": "python",
   "name": "python3"
  },
  "language_info": {
   "codemirror_mode": {
    "name": "ipython",
    "version": 3
   },
   "file_extension": ".py",
   "mimetype": "text/x-python",
   "name": "python",
   "nbconvert_exporter": "python",
   "pygments_lexer": "ipython3",
   "version": "3.11.5"
  }
 },
 "nbformat": 4,
 "nbformat_minor": 2
}
